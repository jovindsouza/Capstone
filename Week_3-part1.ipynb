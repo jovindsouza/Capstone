{
  "nbformat": 4,
  "nbformat_minor": 0,
  "metadata": {
    "colab": {
      "name": "Week 3.ipynb",
      "provenance": [],
      "collapsed_sections": [],
      "toc_visible": true,
      "authorship_tag": "ABX9TyMHRqRecbkMFzXLbjw58QfE",
      "include_colab_link": true
    },
    "kernelspec": {
      "name": "python3",
      "display_name": "Python 3"
    }
  },
  "cells": [
    {
      "cell_type": "markdown",
      "metadata": {
        "id": "view-in-github",
        "colab_type": "text"
      },
      "source": [
        "<a href=\"https://colab.research.google.com/github/jovindsouza/Capstone/blob/master/Week_3-part1.ipynb\" target=\"_parent\"><img src=\"https://colab.research.google.com/assets/colab-badge.svg\" alt=\"Open In Colab\"/></a>"
      ]
    },
    {
      "cell_type": "markdown",
      "metadata": {
        "id": "jtuJwlqCLiN8",
        "colab_type": "text"
      },
      "source": [
        "# **IBM Applied Data Science Capstone Course by Coursera**"
      ]
    },
    {
      "cell_type": "markdown",
      "metadata": {
        "id": "QLTA4INzLsAt",
        "colab_type": "text"
      },
      "source": [
        "**1. Importing the libraries**"
      ]
    },
    {
      "cell_type": "code",
      "metadata": {
        "id": "fv3IsxEfLfz7",
        "colab_type": "code",
        "colab": {
          "base_uri": "https://localhost:8080/",
          "height": 34
        },
        "outputId": "ca83e241-3757-4a08-f015-ffbf4abb6062"
      },
      "source": [
        "import numpy as np # library to handle data in a vectorized manner\n",
        "\n",
        "import pandas as pd # library for data analsysis\n",
        "pd.set_option(\"display.max_columns\", None)\n",
        "pd.set_option(\"display.max_rows\", None)\n",
        "\n",
        "import json # library to handle JSON files\n",
        "\n",
        "from geopy.geocoders import Nominatim # convert an address into latitude and longitude values\n",
        "\n",
        "import requests # library to handle requests\n",
        "from bs4 import BeautifulSoup # library to parse HTML and XML documents\n",
        "\n",
        "from pandas.io.json import json_normalize # tranform JSON file into a pandas dataframe\n",
        "\n",
        "# Matplotlib and associated plotting modules\n",
        "import matplotlib.cm as cm\n",
        "import matplotlib.colors as colors\n",
        "\n",
        "# import k-means from clustering stage\n",
        "from sklearn.cluster import KMeans\n",
        "\n",
        "import folium # map rendering library\n",
        "\n",
        "print(\"Libraries imported.\")"
      ],
      "execution_count": null,
      "outputs": [
        {
          "output_type": "stream",
          "text": [
            "Libraries imported.\n"
          ],
          "name": "stdout"
        }
      ]
    },
    {
      "cell_type": "markdown",
      "metadata": {
        "id": "FczSxuyWL5Gz",
        "colab_type": "text"
      },
      "source": [
        "\n",
        "\n",
        "**2. Scrap data from Wikipedia page into a DataFrame**"
      ]
    },
    {
      "cell_type": "code",
      "metadata": {
        "id": "1l_EeT-DLwrY",
        "colab_type": "code",
        "colab": {}
      },
      "source": [
        "# send the GET request\n",
        "data =requests.get('https://en.wikipedia.org/wiki/List_of_postal_codes_of_Canada:_M').text\n",
        "\n",
        "\n",
        "# parse data from the html into a beautifulsoup object\n",
        "soup = BeautifulSoup(data, 'html.parser')\n",
        "\n",
        "# create three lists to store table data\n",
        "postalCodeList = []\n",
        "boroughList = []\n",
        "neighborhoodList = []"
      ],
      "execution_count": null,
      "outputs": []
    },
    {
      "cell_type": "code",
      "metadata": {
        "id": "4V1kr9MeMV1a",
        "colab_type": "code",
        "colab": {}
      },
      "source": [
        "for row in soup.find('table').find_all('tr'):\n",
        "    cells = row.find_all('td')\n",
        "    if(len(cells) > 0):\n",
        "        postalCodeList.append(cells[0].text)\n",
        "        boroughList.append(cells[1].text)\n",
        "        neighborhoodList.append(cells[2].text.rstrip('\\n')) # remove the new line char from neighborhood cell"
      ],
      "execution_count": 48,
      "outputs": []
    },
    {
      "cell_type": "code",
      "metadata": {
        "id": "WRbeo6YeNoRS",
        "colab_type": "code",
        "colab": {}
      },
      "source": [
        "# create a new DataFrame from the three lists\n",
        "toronto_df = pd.DataFrame({\"PostalCode\": postalCodeList,\n",
        "                           \"Borough\": boroughList,\n",
        "                           \"Neighborhood\": neighborhoodList})\n",
        "\n",
        "toronto_df = toronto_df.replace('\\n',' ', regex=True)\n",
        "\n",
        "toronto_df.to_csv('file.csv')"
      ],
      "execution_count": 84,
      "outputs": []
    },
    {
      "cell_type": "markdown",
      "metadata": {
        "id": "L_7r6-J6Pr3i",
        "colab_type": "text"
      },
      "source": [
        "**3. Drop cells with a borough that is \"Not assigned\"**"
      ]
    },
    {
      "cell_type": "code",
      "metadata": {
        "id": "y3IwSaFjNtZP",
        "colab_type": "code",
        "colab": {
          "base_uri": "https://localhost:8080/",
          "height": 195
        },
        "outputId": "33fb2eeb-a108-4840-c47a-31e318022216"
      },
      "source": [
        "data=pd.read_csv('file.csv')\n",
        "\n",
        "toronto_df = data[data.Neighborhood != 'Not assigned'].reset_index(drop=True)\n",
        "toronto_df.drop(columns={'Unnamed: 0'}).head()\n",
        "\n"
      ],
      "execution_count": 111,
      "outputs": [
        {
          "output_type": "execute_result",
          "data": {
            "text/html": [
              "<div>\n",
              "<style scoped>\n",
              "    .dataframe tbody tr th:only-of-type {\n",
              "        vertical-align: middle;\n",
              "    }\n",
              "\n",
              "    .dataframe tbody tr th {\n",
              "        vertical-align: top;\n",
              "    }\n",
              "\n",
              "    .dataframe thead th {\n",
              "        text-align: right;\n",
              "    }\n",
              "</style>\n",
              "<table border=\"1\" class=\"dataframe\">\n",
              "  <thead>\n",
              "    <tr style=\"text-align: right;\">\n",
              "      <th></th>\n",
              "      <th>PostalCode</th>\n",
              "      <th>Borough</th>\n",
              "      <th>Neighborhood</th>\n",
              "    </tr>\n",
              "  </thead>\n",
              "  <tbody>\n",
              "    <tr>\n",
              "      <th>0</th>\n",
              "      <td>M3A</td>\n",
              "      <td>North York</td>\n",
              "      <td>Parkwoods</td>\n",
              "    </tr>\n",
              "    <tr>\n",
              "      <th>1</th>\n",
              "      <td>M4A</td>\n",
              "      <td>North York</td>\n",
              "      <td>Victoria Village</td>\n",
              "    </tr>\n",
              "    <tr>\n",
              "      <th>2</th>\n",
              "      <td>M5A</td>\n",
              "      <td>Downtown Toronto</td>\n",
              "      <td>Regent Park, Harbourfront</td>\n",
              "    </tr>\n",
              "    <tr>\n",
              "      <th>3</th>\n",
              "      <td>M6A</td>\n",
              "      <td>North York</td>\n",
              "      <td>Lawrence Manor, Lawrence Heights</td>\n",
              "    </tr>\n",
              "    <tr>\n",
              "      <th>4</th>\n",
              "      <td>M7A</td>\n",
              "      <td>Downtown Toronto</td>\n",
              "      <td>Queen's Park, Ontario Provincial Government</td>\n",
              "    </tr>\n",
              "  </tbody>\n",
              "</table>\n",
              "</div>"
            ],
            "text/plain": [
              "  PostalCode            Borough                                 Neighborhood\n",
              "0       M3A         North York                                     Parkwoods\n",
              "1       M4A         North York                              Victoria Village\n",
              "2       M5A   Downtown Toronto                     Regent Park, Harbourfront\n",
              "3       M6A         North York              Lawrence Manor, Lawrence Heights\n",
              "4       M7A   Downtown Toronto   Queen's Park, Ontario Provincial Government"
            ]
          },
          "metadata": {
            "tags": []
          },
          "execution_count": 111
        }
      ]
    },
    {
      "cell_type": "markdown",
      "metadata": {
        "id": "IFh3TBscdNv4",
        "colab_type": "text"
      },
      "source": [
        "\n",
        "**4. Group neighborhoods in the same borough**"
      ]
    },
    {
      "cell_type": "code",
      "metadata": {
        "id": "nWJNJPRub5TG",
        "colab_type": "code",
        "colab": {
          "base_uri": "https://localhost:8080/",
          "height": 195
        },
        "outputId": "7841b6d7-6bb9-4ad1-a1f3-807c610baec2"
      },
      "source": [
        "toronto_df_grouped = toronto_df.groupby([\"PostalCode\", \"Borough\"], as_index=False).agg(lambda x: \", \".join(x))\n",
        "toronto_df_grouped.head()"
      ],
      "execution_count": 103,
      "outputs": [
        {
          "output_type": "execute_result",
          "data": {
            "text/html": [
              "<div>\n",
              "<style scoped>\n",
              "    .dataframe tbody tr th:only-of-type {\n",
              "        vertical-align: middle;\n",
              "    }\n",
              "\n",
              "    .dataframe tbody tr th {\n",
              "        vertical-align: top;\n",
              "    }\n",
              "\n",
              "    .dataframe thead th {\n",
              "        text-align: right;\n",
              "    }\n",
              "</style>\n",
              "<table border=\"1\" class=\"dataframe\">\n",
              "  <thead>\n",
              "    <tr style=\"text-align: right;\">\n",
              "      <th></th>\n",
              "      <th>PostalCode</th>\n",
              "      <th>Borough</th>\n",
              "      <th>Neighborhood</th>\n",
              "    </tr>\n",
              "  </thead>\n",
              "  <tbody>\n",
              "    <tr>\n",
              "      <th>0</th>\n",
              "      <td>M1B</td>\n",
              "      <td>Scarborough</td>\n",
              "      <td>Malvern, Rouge, Malvern, Rouge</td>\n",
              "    </tr>\n",
              "    <tr>\n",
              "      <th>1</th>\n",
              "      <td>M1C</td>\n",
              "      <td>Scarborough</td>\n",
              "      <td>Rouge Hill, Port Union, Highland Creek, Rouge ...</td>\n",
              "    </tr>\n",
              "    <tr>\n",
              "      <th>2</th>\n",
              "      <td>M1E</td>\n",
              "      <td>Scarborough</td>\n",
              "      <td>Guildwood, Morningside, West Hill, Guildwood, ...</td>\n",
              "    </tr>\n",
              "    <tr>\n",
              "      <th>3</th>\n",
              "      <td>M1G</td>\n",
              "      <td>Scarborough</td>\n",
              "      <td>Woburn, Woburn</td>\n",
              "    </tr>\n",
              "    <tr>\n",
              "      <th>4</th>\n",
              "      <td>M1H</td>\n",
              "      <td>Scarborough</td>\n",
              "      <td>Cedarbrae, Cedarbrae</td>\n",
              "    </tr>\n",
              "  </tbody>\n",
              "</table>\n",
              "</div>"
            ],
            "text/plain": [
              "  PostalCode       Borough                                       Neighborhood\n",
              "0       M1B   Scarborough                      Malvern, Rouge, Malvern, Rouge\n",
              "1       M1C   Scarborough   Rouge Hill, Port Union, Highland Creek, Rouge ...\n",
              "2       M1E   Scarborough   Guildwood, Morningside, West Hill, Guildwood, ...\n",
              "3       M1G   Scarborough                                      Woburn, Woburn\n",
              "4       M1H   Scarborough                                Cedarbrae, Cedarbrae"
            ]
          },
          "metadata": {
            "tags": []
          },
          "execution_count": 103
        }
      ]
    },
    {
      "cell_type": "markdown",
      "metadata": {
        "id": "Ey_tUGZWgPFA",
        "colab_type": "text"
      },
      "source": [
        "**5. Finding the shape**"
      ]
    },
    {
      "cell_type": "code",
      "metadata": {
        "id": "-ykqe4IdfHts",
        "colab_type": "code",
        "colab": {
          "base_uri": "https://localhost:8080/",
          "height": 34
        },
        "outputId": "7d11f952-8f73-43c1-8b9d-860706b40495"
      },
      "source": [
        "# print the number of rows of the cleaned dataframe\n",
        "toronto_df_grouped.shape"
      ],
      "execution_count": 105,
      "outputs": [
        {
          "output_type": "execute_result",
          "data": {
            "text/plain": [
              "(103, 3)"
            ]
          },
          "metadata": {
            "tags": []
          },
          "execution_count": 105
        }
      ]
    },
    {
      "cell_type": "code",
      "metadata": {
        "id": "EcsV3MqdfaL2",
        "colab_type": "code",
        "colab": {}
      },
      "source": [
        ""
      ],
      "execution_count": null,
      "outputs": []
    }
  ]
}